{
 "cells": [
  {
   "cell_type": "markdown",
   "id": "e3eab14d-3157-4698-8488-47b5f2356ddd",
   "metadata": {},
   "source": [
    "# Giveaway prototype"
   ]
  },
  {
   "cell_type": "code",
   "execution_count": 51,
   "id": "d59aaea3-d6f4-4d11-b310-91b1f3a5baa7",
   "metadata": {},
   "outputs": [],
   "source": [
    "import numpy as np\n",
    "import pandas as pd\n",
    "import math"
   ]
  },
  {
   "cell_type": "code",
   "execution_count": 34,
   "id": "f5155fb7-796d-4206-a744-8b85cc81390c",
   "metadata": {},
   "outputs": [],
   "source": [
    "rng_reproducible = np.random.default_rng(seed=42)\n",
    "rng_fresh = np.random.default_rng()"
   ]
  },
  {
   "cell_type": "markdown",
   "id": "1da1558c-6012-4134-8e87-36c9fdf9636b",
   "metadata": {},
   "source": [
    "Idea collection:\n",
    "- load competitor list\n",
    "- combine it with WCA DB info / competition info\n",
    "- get newcomers\n",
    "- get orga / delegates\n",
    "- manually note down sponsorees who should not receive gift from sponsor (controversial)\n",
    "- no repetition\n",
    "- different modes:\n",
    "    - treat everyone who is allowed to receive gift in same way\n",
    "    - separate newcomers and returners (disjoint)\n",
    "    - separate newcomers (group A) and everyone (group B)"
   ]
  },
  {
   "cell_type": "code",
   "execution_count": 35,
   "id": "0a1ae247-82b1-448a-a176-622934178306",
   "metadata": {},
   "outputs": [],
   "source": [
    "# hard-coded stuff\n",
    "WCA_database_path = '../wca-competition-orga/WCA_export.tsv/'"
   ]
  },
  {
   "cell_type": "code",
   "execution_count": 36,
   "id": "fd6b2e53-a350-4d0a-8ab4-c05adcb385b2",
   "metadata": {},
   "outputs": [],
   "source": [
    "competitors_path = '../wca-competition-orga/DarmstadtDodecahedronDays2023-registration'\n",
    "comp_id = 'DarmstadtDodecahedronDays2023'"
   ]
  },
  {
   "cell_type": "code",
   "execution_count": 37,
   "id": "2c37773d-41e1-4198-b31a-01061abf3317",
   "metadata": {},
   "outputs": [],
   "source": [
    "# get competitor information for specific competition\n",
    "competitors = pd.read_csv(f'{competitors_path}.csv')"
   ]
  },
  {
   "cell_type": "code",
   "execution_count": 38,
   "id": "bb36836c-8e35-4455-b531-d2bc1b802bea",
   "metadata": {},
   "outputs": [],
   "source": [
    "names = competitors['Name']\n",
    "countries = competitors['Country']\n",
    "# replace NaN Ids with Str 'Newcomer' for proper printout\n",
    "competitors['WCA ID'].replace(np.nan, 'Newcomer', inplace=True) # for all views of the column\n",
    "wca_ids = competitors['WCA ID']\n",
    "# get competition information (associated staff like organizers and delegates)\n",
    "competitions = pd.read_csv(f'{WCA_database_path}WCA_export_Competitions.tsv',sep='\\t')\n",
    "this_comp = competitions[competitions['id'] == comp_id]\n",
    "\n",
    "delegates = this_comp['wcaDelegate']\n",
    "orga = this_comp['organiser']\n",
    "comp_name = this_comp['name'].values[0]\n",
    "\n",
    "# go from a series (pandas) to a list, then split until only names remain\n",
    "delegates_ = [d for d in delegates]\n",
    "delegates_ = delegates_[0].split('] [')\n",
    "delegates_ = [d.split('}{')[0].split('{')[1] for d in delegates_]\n",
    "orga_ = [o for o in orga]\n",
    "orga_ = orga_[0].split('] [')\n",
    "orga_ = [o.split('}{')[0].split('{')[1] for o in orga_]\n",
    "\n",
    "potential_newcomers = [n for n in names[wca_ids == 'Newcomer']]"
   ]
  },
  {
   "cell_type": "code",
   "execution_count": 39,
   "id": "cd926728-7fc3-4b38-aa4b-2a88503e5c15",
   "metadata": {},
   "outputs": [
    {
     "data": {
      "text/plain": [
       "['Annika Stein', 'Laura Holzhauer', 'Ricardo Olea Catalán']"
      ]
     },
     "execution_count": 39,
     "metadata": {},
     "output_type": "execute_result"
    }
   ],
   "source": [
    "delegates_"
   ]
  },
  {
   "cell_type": "code",
   "execution_count": 40,
   "id": "cec163b9-22c0-4aab-b518-12ca93d8efcc",
   "metadata": {},
   "outputs": [
    {
     "data": {
      "text/plain": [
       "['Alexander Botz',\n",
       " 'Johanna Szczesny',\n",
       " 'Kevin Gerhardt',\n",
       " 'Malte Ihlefeld',\n",
       " 'Wilhelm Kilders']"
      ]
     },
     "execution_count": 40,
     "metadata": {},
     "output_type": "execute_result"
    }
   ],
   "source": [
    "orga_"
   ]
  },
  {
   "cell_type": "code",
   "execution_count": 41,
   "id": "6cb4e5d3-a5aa-423b-b1ee-f8ba66bc99ba",
   "metadata": {},
   "outputs": [],
   "source": [
    "excludes = delegates_ + orga_"
   ]
  },
  {
   "cell_type": "code",
   "execution_count": 42,
   "id": "172a95e4-ff85-42d2-8633-453578c7dc28",
   "metadata": {},
   "outputs": [
    {
     "data": {
      "text/plain": [
       "['Nicolas Walter',\n",
       " 'Leni Schultheis',\n",
       " 'Teo Kim',\n",
       " 'Srinikshith Akula',\n",
       " 'Sergei Shapovalov',\n",
       " 'Yiming Jin',\n",
       " 'Yihang Jin',\n",
       " 'Manuel Kopp']"
      ]
     },
     "execution_count": 42,
     "metadata": {},
     "output_type": "execute_result"
    }
   ],
   "source": [
    "potential_newcomers"
   ]
  },
  {
   "cell_type": "code",
   "execution_count": 43,
   "id": "346451f6-f01b-4258-bab1-d4e53fcdd047",
   "metadata": {},
   "outputs": [],
   "source": [
    "potential_names = [n for n in names if n not in excludes]"
   ]
  },
  {
   "cell_type": "code",
   "execution_count": 44,
   "id": "ec397acb-ffdd-43e0-8967-9fb65be61fec",
   "metadata": {
    "scrolled": true,
    "tags": []
   },
   "outputs": [
    {
     "data": {
      "text/plain": [
       "['Achim Spies',\n",
       " 'Patrick Hetco',\n",
       " 'Finn Ickler',\n",
       " 'Linh Son Luu',\n",
       " 'Erik Akkersdijk',\n",
       " 'Julian Hilpisch',\n",
       " 'Eduardo Paez Rubio',\n",
       " 'Andre Beer',\n",
       " 'Henri Gerber',\n",
       " 'Leon Schmidtchen',\n",
       " 'Jonas Pilhöfer',\n",
       " 'Samuel Francis Ballas',\n",
       " 'Yannick Weller',\n",
       " 'Nicolas Walter',\n",
       " 'David Nesiba',\n",
       " 'Mark Zimmermann',\n",
       " 'David Leutert',\n",
       " 'Duc Huynh',\n",
       " 'Louis Stil',\n",
       " 'Milan Wolfram',\n",
       " 'Luc Prevost',\n",
       " 'Jonathan Kobbe',\n",
       " 'Konstantin Minkovic',\n",
       " 'Nils Thorben Lang',\n",
       " 'Alexis Fedeler',\n",
       " 'Francesco Schmitt',\n",
       " 'Yash Budhiraja',\n",
       " 'Oscar Lin',\n",
       " 'Sophia Schmoll',\n",
       " 'Emma Pfeifer',\n",
       " 'Wiebke Drude',\n",
       " 'Titus Miholic',\n",
       " 'Christian Beemelmann',\n",
       " 'Berk Delen',\n",
       " 'Jakob Schöley',\n",
       " 'Nina Lutz',\n",
       " 'Emilio Görg',\n",
       " 'Ilhan M. Dumlupinar',\n",
       " 'Eduardo Munive',\n",
       " 'Thomas Miholic',\n",
       " 'Richard Rettich',\n",
       " 'Imanuel Leonid Müller',\n",
       " 'Leni Schultheis',\n",
       " 'Nico Maier',\n",
       " 'Hendrik Ludwig',\n",
       " 'Justas Indrisiunas',\n",
       " 'Lucas Leon Erb',\n",
       " 'Danny Kaiser',\n",
       " 'Helmut Heilig',\n",
       " 'Petr Samodelkin',\n",
       " 'Yasin Kaan Ocakdan',\n",
       " 'Tuna Kaya Erdal',\n",
       " 'Oskar Herzog',\n",
       " 'Felix Stuhlmann',\n",
       " 'Jordan Crippa',\n",
       " 'Tobias Peter',\n",
       " 'Fabian Max',\n",
       " 'Ioannis Papadopoulos',\n",
       " 'Teo Kim',\n",
       " 'Habin Shin',\n",
       " 'Eliah Mezler',\n",
       " 'Sasha Al-nouri',\n",
       " 'Natan Suslowicz',\n",
       " 'Srinikshith Akula',\n",
       " 'Pier Patrick Gaub',\n",
       " 'József Katona',\n",
       " 'Sergei Shapovalov',\n",
       " 'Linus Kunath',\n",
       " 'Ahyan Perwez',\n",
       " 'Noah Bernhard Franke',\n",
       " 'Kevin Mezker',\n",
       " 'Yiming Jin',\n",
       " 'Yihang Jin',\n",
       " 'Manuel Kopp']"
      ]
     },
     "execution_count": 44,
     "metadata": {},
     "output_type": "execute_result"
    }
   ],
   "source": [
    "potential_names"
   ]
  },
  {
   "cell_type": "code",
   "execution_count": 45,
   "id": "e8107a3a-6b44-45bb-8a04-939a02501cfb",
   "metadata": {},
   "outputs": [],
   "source": [
    "potential_returner = [r for r in ([n for n in names[wca_ids != 'Newcomer']]) if r not in excludes]"
   ]
  },
  {
   "cell_type": "code",
   "execution_count": 46,
   "id": "778e884d-88e3-43ef-b9fc-1dcc1d1bd3e4",
   "metadata": {
    "scrolled": true,
    "tags": []
   },
   "outputs": [
    {
     "data": {
      "text/plain": [
       "['Achim Spies',\n",
       " 'Patrick Hetco',\n",
       " 'Finn Ickler',\n",
       " 'Linh Son Luu',\n",
       " 'Erik Akkersdijk',\n",
       " 'Julian Hilpisch',\n",
       " 'Eduardo Paez Rubio',\n",
       " 'Andre Beer',\n",
       " 'Henri Gerber',\n",
       " 'Leon Schmidtchen',\n",
       " 'Jonas Pilhöfer',\n",
       " 'Samuel Francis Ballas',\n",
       " 'Yannick Weller',\n",
       " 'David Nesiba',\n",
       " 'Mark Zimmermann',\n",
       " 'David Leutert',\n",
       " 'Duc Huynh',\n",
       " 'Louis Stil',\n",
       " 'Milan Wolfram',\n",
       " 'Luc Prevost',\n",
       " 'Jonathan Kobbe',\n",
       " 'Konstantin Minkovic',\n",
       " 'Nils Thorben Lang',\n",
       " 'Alexis Fedeler',\n",
       " 'Francesco Schmitt',\n",
       " 'Yash Budhiraja',\n",
       " 'Oscar Lin',\n",
       " 'Sophia Schmoll',\n",
       " 'Emma Pfeifer',\n",
       " 'Wiebke Drude',\n",
       " 'Titus Miholic',\n",
       " 'Christian Beemelmann',\n",
       " 'Berk Delen',\n",
       " 'Jakob Schöley',\n",
       " 'Nina Lutz',\n",
       " 'Emilio Görg',\n",
       " 'Ilhan M. Dumlupinar',\n",
       " 'Eduardo Munive',\n",
       " 'Thomas Miholic',\n",
       " 'Richard Rettich',\n",
       " 'Imanuel Leonid Müller',\n",
       " 'Nico Maier',\n",
       " 'Hendrik Ludwig',\n",
       " 'Justas Indrisiunas',\n",
       " 'Lucas Leon Erb',\n",
       " 'Danny Kaiser',\n",
       " 'Helmut Heilig',\n",
       " 'Petr Samodelkin',\n",
       " 'Yasin Kaan Ocakdan',\n",
       " 'Tuna Kaya Erdal',\n",
       " 'Oskar Herzog',\n",
       " 'Felix Stuhlmann',\n",
       " 'Jordan Crippa',\n",
       " 'Tobias Peter',\n",
       " 'Fabian Max',\n",
       " 'Ioannis Papadopoulos',\n",
       " 'Habin Shin',\n",
       " 'Eliah Mezler',\n",
       " 'Sasha Al-nouri',\n",
       " 'Natan Suslowicz',\n",
       " 'Pier Patrick Gaub',\n",
       " 'József Katona',\n",
       " 'Linus Kunath',\n",
       " 'Ahyan Perwez',\n",
       " 'Noah Bernhard Franke',\n",
       " 'Kevin Mezker']"
      ]
     },
     "execution_count": 46,
     "metadata": {},
     "output_type": "execute_result"
    }
   ],
   "source": [
    "potential_returner"
   ]
  },
  {
   "cell_type": "code",
   "execution_count": 53,
   "id": "e2980308-ac76-41c4-ab8c-0b0e2007d638",
   "metadata": {},
   "outputs": [],
   "source": [
    "mode = 'allInOne' # allInOne or newcomerThenReturner or newcomerThenAll\n",
    "n_codes = 6"
   ]
  },
  {
   "cell_type": "code",
   "execution_count": 54,
   "id": "812bcff6-548a-4d15-aa56-8fc1c48943fa",
   "metadata": {},
   "outputs": [],
   "source": [
    "if mode == 'allInOne':\n",
    "    draw_from = potential_names\n",
    "    k = n_codes\n",
    "elif mode == 'newcomerThenReturner':\n",
    "    draw_from_A = potential_newcomers\n",
    "    k_A = math.ceil(n_codes / 2.)\n",
    "    draw_from_B = potential_returners\n",
    "    k_B = math.floor(n_codes / 2.)\n",
    "elif mode == 'newcomerThenAll':\n",
    "    draw_from_A = potential_newcomers\n",
    "    k_A = math.ceil(n_codes / 2.)\n",
    "    #draw_from_B = potential_returners - drawn_in_stage_A"
   ]
  },
  {
   "cell_type": "code",
   "execution_count": 69,
   "id": "ba1c30fa-1e61-4146-915b-da332f83b8f6",
   "metadata": {},
   "outputs": [],
   "source": [
    "def draw_and_throw_out(list_to_draw_from):\n",
    "    n = len(list_to_draw_from)\n",
    "    random_i = int(rng_fresh.integers(low=0, high=n, size=1))\n",
    "    the_chosen_one = list_to_draw_from[random_i]\n",
    "    shortened_list = list_to_draw_from.copy()\n",
    "    shortened_list.pop(random_i)\n",
    "    return the_chosen_one, shortened_list"
   ]
  },
  {
   "cell_type": "code",
   "execution_count": 70,
   "id": "0833d6e9-a327-4ec9-ae6b-3b6560a3a9b5",
   "metadata": {},
   "outputs": [
    {
     "name": "stdout",
     "output_type": "stream",
     "text": [
      "Henri Gerber ['Achim Spies', 'Patrick Hetco', 'Finn Ickler', 'Linh Son Luu', 'Eduardo Paez Rubio', 'Leon Schmidtchen', 'Samuel Francis Ballas', 'David Nesiba', 'Mark Zimmermann', 'David Leutert', 'Duc Huynh', 'Milan Wolfram', 'Jonathan Kobbe', 'Nils Thorben Lang', 'Oscar Lin', 'Titus Miholic', 'Christian Beemelmann', 'Berk Delen', 'Jakob Schöley', 'Nina Lutz', 'Emilio Görg', 'Thomas Miholic', 'Nico Maier', 'Justas Indrisiunas', 'Danny Kaiser', 'Petr Samodelkin', 'Yasin Kaan Ocakdan', 'Jordan Crippa', 'Tobias Peter', 'Teo Kim', 'Eliah Mezler', 'Natan Suslowicz', 'Srinikshith Akula', 'József Katona', 'Linus Kunath', 'Yihang Jin', 'Manuel Kopp'] 37\n",
      "Emilio Görg ['Achim Spies', 'Patrick Hetco', 'Finn Ickler', 'Linh Son Luu', 'Eduardo Paez Rubio', 'Henri Gerber', 'Leon Schmidtchen', 'Samuel Francis Ballas', 'David Nesiba', 'Mark Zimmermann', 'David Leutert', 'Duc Huynh', 'Milan Wolfram', 'Jonathan Kobbe', 'Nils Thorben Lang', 'Oscar Lin', 'Titus Miholic', 'Christian Beemelmann', 'Berk Delen', 'Jakob Schöley', 'Nina Lutz', 'Thomas Miholic', 'Nico Maier', 'Justas Indrisiunas', 'Danny Kaiser', 'Petr Samodelkin', 'Yasin Kaan Ocakdan', 'Jordan Crippa', 'Tobias Peter', 'Teo Kim', 'Eliah Mezler', 'Natan Suslowicz', 'Srinikshith Akula', 'József Katona', 'Linus Kunath', 'Yihang Jin', 'Manuel Kopp'] 37\n",
      "Samuel Francis Ballas ['Achim Spies', 'Patrick Hetco', 'Finn Ickler', 'Linh Son Luu', 'Eduardo Paez Rubio', 'Henri Gerber', 'Leon Schmidtchen', 'David Nesiba', 'Mark Zimmermann', 'David Leutert', 'Duc Huynh', 'Milan Wolfram', 'Jonathan Kobbe', 'Nils Thorben Lang', 'Oscar Lin', 'Titus Miholic', 'Christian Beemelmann', 'Berk Delen', 'Jakob Schöley', 'Nina Lutz', 'Emilio Görg', 'Thomas Miholic', 'Nico Maier', 'Justas Indrisiunas', 'Danny Kaiser', 'Petr Samodelkin', 'Yasin Kaan Ocakdan', 'Jordan Crippa', 'Tobias Peter', 'Teo Kim', 'Eliah Mezler', 'Natan Suslowicz', 'Srinikshith Akula', 'József Katona', 'Linus Kunath', 'Yihang Jin', 'Manuel Kopp'] 37\n",
      "Jakob Schöley ['Achim Spies', 'Patrick Hetco', 'Finn Ickler', 'Linh Son Luu', 'Eduardo Paez Rubio', 'Henri Gerber', 'Leon Schmidtchen', 'Samuel Francis Ballas', 'David Nesiba', 'Mark Zimmermann', 'David Leutert', 'Duc Huynh', 'Milan Wolfram', 'Jonathan Kobbe', 'Nils Thorben Lang', 'Oscar Lin', 'Titus Miholic', 'Christian Beemelmann', 'Berk Delen', 'Nina Lutz', 'Emilio Görg', 'Thomas Miholic', 'Nico Maier', 'Justas Indrisiunas', 'Danny Kaiser', 'Petr Samodelkin', 'Yasin Kaan Ocakdan', 'Jordan Crippa', 'Tobias Peter', 'Teo Kim', 'Eliah Mezler', 'Natan Suslowicz', 'Srinikshith Akula', 'József Katona', 'Linus Kunath', 'Yihang Jin', 'Manuel Kopp'] 37\n",
      "Oscar Lin ['Achim Spies', 'Patrick Hetco', 'Finn Ickler', 'Linh Son Luu', 'Eduardo Paez Rubio', 'Henri Gerber', 'Leon Schmidtchen', 'Samuel Francis Ballas', 'David Nesiba', 'Mark Zimmermann', 'David Leutert', 'Duc Huynh', 'Milan Wolfram', 'Jonathan Kobbe', 'Nils Thorben Lang', 'Titus Miholic', 'Christian Beemelmann', 'Berk Delen', 'Jakob Schöley', 'Nina Lutz', 'Emilio Görg', 'Thomas Miholic', 'Nico Maier', 'Justas Indrisiunas', 'Danny Kaiser', 'Petr Samodelkin', 'Yasin Kaan Ocakdan', 'Jordan Crippa', 'Tobias Peter', 'Teo Kim', 'Eliah Mezler', 'Natan Suslowicz', 'Srinikshith Akula', 'József Katona', 'Linus Kunath', 'Yihang Jin', 'Manuel Kopp'] 37\n",
      "Eliah Mezler ['Achim Spies', 'Patrick Hetco', 'Finn Ickler', 'Linh Son Luu', 'Eduardo Paez Rubio', 'Henri Gerber', 'Leon Schmidtchen', 'Samuel Francis Ballas', 'David Nesiba', 'Mark Zimmermann', 'David Leutert', 'Duc Huynh', 'Milan Wolfram', 'Jonathan Kobbe', 'Nils Thorben Lang', 'Oscar Lin', 'Titus Miholic', 'Christian Beemelmann', 'Berk Delen', 'Jakob Schöley', 'Nina Lutz', 'Emilio Görg', 'Thomas Miholic', 'Nico Maier', 'Justas Indrisiunas', 'Danny Kaiser', 'Petr Samodelkin', 'Yasin Kaan Ocakdan', 'Jordan Crippa', 'Tobias Peter', 'Teo Kim', 'Natan Suslowicz', 'Srinikshith Akula', 'József Katona', 'Linus Kunath', 'Yihang Jin', 'Manuel Kopp'] 37\n"
     ]
    }
   ],
   "source": [
    "for c in range(k):\n",
    "    chosen_name, new_list = draw_and_throw_out(draw_from)\n",
    "    print(chosen_name, new_list, len(new_list))"
   ]
  },
  {
   "cell_type": "code",
   "execution_count": null,
   "id": "1e0db44b-1dba-416c-88e2-0bab567c4762",
   "metadata": {},
   "outputs": [],
   "source": []
  }
 ],
 "metadata": {
  "kernelspec": {
   "display_name": "Python 3",
   "language": "python",
   "name": "python3"
  },
  "language_info": {
   "codemirror_mode": {
    "name": "ipython",
    "version": 3
   },
   "file_extension": ".py",
   "mimetype": "text/x-python",
   "name": "python",
   "nbconvert_exporter": "python",
   "pygments_lexer": "ipython3",
   "version": "3.9.12"
  }
 },
 "nbformat": 4,
 "nbformat_minor": 5
}
